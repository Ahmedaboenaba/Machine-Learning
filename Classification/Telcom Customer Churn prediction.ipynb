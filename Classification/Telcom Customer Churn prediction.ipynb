{
 "cells": [
  {
   "cell_type": "markdown",
   "id": "45f3e7ae",
   "metadata": {},
   "source": [
    "# Telco customer Churn Prediction"
   ]
  },
  {
   "cell_type": "markdown",
   "id": "7669119e",
   "metadata": {},
   "source": [
    "### Objective: Predict Churn of Customers in Buisiness data"
   ]
  },
  {
   "cell_type": "markdown",
   "id": "047b0715",
   "metadata": {},
   "source": [
    "### Necessary Libraries"
   ]
  },
  {
   "cell_type": "code",
   "execution_count": 1,
   "id": "10e8c65d",
   "metadata": {},
   "outputs": [],
   "source": [
    "#Data Manipulation\n",
    "import pandas as pd\n",
    "import numpy as np\n",
    "\n",
    "#Data Visualization\n",
    "import matplotlib.pyplot as plt\n",
    "import seaborn as sns\n",
    "import plotly.express as px\n",
    "\n",
    "#Model Selection and Training\n",
    "from sklearn.model_selection import train_test_split\n",
    "from sklearn.linear_model import LogisticRegression\n",
    "from sklearn.ensemble import RandomForestClassifier\n",
    "from sklearn.svm import SVC\n",
    "\n",
    "#Model Evaluation\n",
    "from sklearn.metrics import classification_report,confusion_matrix,roc_curve,roc_auc_score\n",
    "\n",
    "#Ignore Warnings\n",
    "import warnings\n",
    "warnings.filterwarnings('ignore')"
   ]
  },
  {
   "cell_type": "markdown",
   "id": "cac03647",
   "metadata": {},
   "source": [
    "### Data Loading"
   ]
  },
  {
   "cell_type": "code",
   "execution_count": 2,
   "id": "fbc9f0d1",
   "metadata": {},
   "outputs": [],
   "source": [
    "tcc = pd.read_csv('/mnt/d/Self_Study/DEPI/01JT8K9VHKHEY6WFGZ6043FKTF.csv')"
   ]
  },
  {
   "cell_type": "markdown",
   "id": "a5b98ac8",
   "metadata": {},
   "source": [
    "### Exploring"
   ]
  },
  {
   "cell_type": "code",
   "execution_count": 3,
   "id": "e7621f4b",
   "metadata": {},
   "outputs": [
    {
     "data": {
      "text/html": [
       "<div>\n",
       "<style scoped>\n",
       "    .dataframe tbody tr th:only-of-type {\n",
       "        vertical-align: middle;\n",
       "    }\n",
       "\n",
       "    .dataframe tbody tr th {\n",
       "        vertical-align: top;\n",
       "    }\n",
       "\n",
       "    .dataframe thead th {\n",
       "        text-align: right;\n",
       "    }\n",
       "</style>\n",
       "<table border=\"1\" class=\"dataframe\">\n",
       "  <thead>\n",
       "    <tr style=\"text-align: right;\">\n",
       "      <th></th>\n",
       "      <th>CustomerID</th>\n",
       "      <th>Gender</th>\n",
       "      <th>Age</th>\n",
       "      <th>SubscriptionLengthMonths</th>\n",
       "      <th>MonthlySpend</th>\n",
       "      <th>TotalSpend</th>\n",
       "      <th>SupportCalls</th>\n",
       "      <th>ContractType</th>\n",
       "      <th>PaymentMethod</th>\n",
       "      <th>IsChurned</th>\n",
       "    </tr>\n",
       "  </thead>\n",
       "  <tbody>\n",
       "    <tr>\n",
       "      <th>0</th>\n",
       "      <td>6e36efe4-8b25-4fbf-a42a-49e373b85999</td>\n",
       "      <td>Male</td>\n",
       "      <td>34</td>\n",
       "      <td>5</td>\n",
       "      <td>36.60</td>\n",
       "      <td>183.00</td>\n",
       "      <td>6</td>\n",
       "      <td>One year</td>\n",
       "      <td>Bank Transfer</td>\n",
       "      <td>0</td>\n",
       "    </tr>\n",
       "    <tr>\n",
       "      <th>1</th>\n",
       "      <td>d9934302-f9b0-41e7-931b-e791f18b6503</td>\n",
       "      <td>Female</td>\n",
       "      <td>48</td>\n",
       "      <td>39</td>\n",
       "      <td>16.84</td>\n",
       "      <td>656.76</td>\n",
       "      <td>0</td>\n",
       "      <td>Two year</td>\n",
       "      <td>Bank Transfer</td>\n",
       "      <td>1</td>\n",
       "    </tr>\n",
       "    <tr>\n",
       "      <th>2</th>\n",
       "      <td>70861ec9-05f6-4a44-b910-522dc6883d9c</td>\n",
       "      <td>Female</td>\n",
       "      <td>75</td>\n",
       "      <td>7</td>\n",
       "      <td>37.49</td>\n",
       "      <td>262.43</td>\n",
       "      <td>1</td>\n",
       "      <td>Two year</td>\n",
       "      <td>Electronic Check</td>\n",
       "      <td>0</td>\n",
       "    </tr>\n",
       "    <tr>\n",
       "      <th>3</th>\n",
       "      <td>b02604c4-bc6e-4219-8dcb-0074d1e53be4</td>\n",
       "      <td>Male</td>\n",
       "      <td>60</td>\n",
       "      <td>48</td>\n",
       "      <td>90.84</td>\n",
       "      <td>4360.32</td>\n",
       "      <td>3</td>\n",
       "      <td>Month-to-month</td>\n",
       "      <td>Electronic Check</td>\n",
       "      <td>1</td>\n",
       "    </tr>\n",
       "    <tr>\n",
       "      <th>4</th>\n",
       "      <td>c818dd79-ca93-4208-8fed-e8654aaa52a5</td>\n",
       "      <td>Female</td>\n",
       "      <td>73</td>\n",
       "      <td>44</td>\n",
       "      <td>48.86</td>\n",
       "      <td>2149.84</td>\n",
       "      <td>8</td>\n",
       "      <td>One year</td>\n",
       "      <td>Credit Card</td>\n",
       "      <td>0</td>\n",
       "    </tr>\n",
       "  </tbody>\n",
       "</table>\n",
       "</div>"
      ],
      "text/plain": [
       "                             CustomerID  Gender  Age  \\\n",
       "0  6e36efe4-8b25-4fbf-a42a-49e373b85999    Male   34   \n",
       "1  d9934302-f9b0-41e7-931b-e791f18b6503  Female   48   \n",
       "2  70861ec9-05f6-4a44-b910-522dc6883d9c  Female   75   \n",
       "3  b02604c4-bc6e-4219-8dcb-0074d1e53be4    Male   60   \n",
       "4  c818dd79-ca93-4208-8fed-e8654aaa52a5  Female   73   \n",
       "\n",
       "   SubscriptionLengthMonths  MonthlySpend  TotalSpend  SupportCalls  \\\n",
       "0                         5         36.60      183.00             6   \n",
       "1                        39         16.84      656.76             0   \n",
       "2                         7         37.49      262.43             1   \n",
       "3                        48         90.84     4360.32             3   \n",
       "4                        44         48.86     2149.84             8   \n",
       "\n",
       "     ContractType     PaymentMethod  IsChurned  \n",
       "0        One year     Bank Transfer          0  \n",
       "1        Two year     Bank Transfer          1  \n",
       "2        Two year  Electronic Check          0  \n",
       "3  Month-to-month  Electronic Check          1  \n",
       "4        One year       Credit Card          0  "
      ]
     },
     "execution_count": 3,
     "metadata": {},
     "output_type": "execute_result"
    }
   ],
   "source": [
    "tcc.head()"
   ]
  },
  {
   "cell_type": "code",
   "execution_count": 4,
   "id": "169f7cf0",
   "metadata": {},
   "outputs": [
    {
     "data": {
      "text/plain": [
       "(1500, 10)"
      ]
     },
     "execution_count": 4,
     "metadata": {},
     "output_type": "execute_result"
    }
   ],
   "source": [
    "tcc.shape"
   ]
  },
  {
   "cell_type": "markdown",
   "id": "c5532ef3",
   "metadata": {},
   "source": [
    "### Preprocessing"
   ]
  },
  {
   "cell_type": "markdown",
   "id": "be470a39",
   "metadata": {},
   "source": [
    "### Model Selection and Training"
   ]
  },
  {
   "cell_type": "markdown",
   "id": "fb768f1b",
   "metadata": {},
   "source": [
    "### Evaluation"
   ]
  }
 ],
 "metadata": {
  "kernelspec": {
   "display_name": "base",
   "language": "python",
   "name": "python3"
  },
  "language_info": {
   "codemirror_mode": {
    "name": "ipython",
    "version": 3
   },
   "file_extension": ".py",
   "mimetype": "text/x-python",
   "name": "python",
   "nbconvert_exporter": "python",
   "pygments_lexer": "ipython3",
   "version": "3.12.2"
  }
 },
 "nbformat": 4,
 "nbformat_minor": 5
}
