{
 "cells": [
  {
   "cell_type": "markdown",
   "id": "947f96e0",
   "metadata": {},
   "source": [
    "# Chat GPT LLM                                                                                              \n",
    "Here we try to import chat gpt to use in our compiler by Taking API form openreouter platform "
   ]
  },
  {
   "cell_type": "code",
   "execution_count": 1,
   "id": "dce12119",
   "metadata": {},
   "outputs": [],
   "source": [
    "from langchain_openai import ChatOpenAI\n",
    "import os "
   ]
  },
  {
   "cell_type": "code",
   "execution_count": null,
   "id": "4f24d995",
   "metadata": {},
   "outputs": [],
   "source": [
    "os.environ[\"OPENAI_API_KEY\"] = \"OPENAI_API_KEY\"\n",
    "os.environ[\"OPENAI_API_BASE\"] = \"https://openrouter.ai/api/v1\"\n",
    "os.environ[\"OPENAI_MODEL_NAME\"]= \"openai/gpt-oss-20b:free\""
   ]
  },
  {
   "cell_type": "code",
   "execution_count": 3,
   "id": "87af55a3",
   "metadata": {},
   "outputs": [],
   "source": [
    "llm = ChatOpenAI()  "
   ]
  },
  {
   "cell_type": "code",
   "execution_count": 4,
   "id": "3a0c9094",
   "metadata": {},
   "outputs": [
    {
     "data": {
      "text/plain": [
       "'A list in Python is a collection of items that are ordered and changeable. Lists in Python are defined by square brackets [] and each element is separated by a comma. Lists can contain any type of data, including integers, strings, floats, or other lists.\\n\\nExample of a list in Python:\\n```python\\nmy_list = [1, 2, 3, 4, 5]\\n``` \\n\\nLists in Python have several built-in methods that can be used to manipulate and access the elements within the list, such as append(), remove(), pop(), index(), and more. Lists are very versatile and commonly used in Python programming for storing data and performing various operations on it.'"
      ]
     },
     "execution_count": 4,
     "metadata": {},
     "output_type": "execute_result"
    }
   ],
   "source": [
    "llm.invoke(\"what are the list in python?!\").content"
   ]
  }
 ],
 "metadata": {
  "kernelspec": {
   "display_name": "base",
   "language": "python",
   "name": "python3"
  },
  "language_info": {
   "codemirror_mode": {
    "name": "ipython",
    "version": 3
   },
   "file_extension": ".py",
   "mimetype": "text/x-python",
   "name": "python",
   "nbconvert_exporter": "python",
   "pygments_lexer": "ipython3",
   "version": "3.12.2"
  }
 },
 "nbformat": 4,
 "nbformat_minor": 5
}
